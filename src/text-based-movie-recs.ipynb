{
  "cells": [
    {
      "cell_type": "markdown",
      "metadata": {},
      "source": [
        "## Introduction\n",
        "\n",
        "In this project, we will implement a text-based recommendation system for movies.\n",
        "\n",
        "The idea is that our recommendation engine provide a user with recommendations of new movies based on how similar the title of a movie the user has already watched is to the the titles of other movies in the database.\n",
        "\n",
        "We will implement two different ways of making a movie recommendation system and one way of making a movie reranking system, based solely on the title and overview of a movie a hypothetical user might enjoy. The techniques we will employ are TF-IDF and bi-encoders. The movie reranker wil be implemented using a cross-encoder.\n",
        "\n",
        "## Resources\n",
        "\n",
        "- Open this page in Google Colab [![Open in Colab](https://colab.research.google.com/assets/colab-badge.svg)](https://colab.research.google.com/github/douglasrizzo/recsys-movies/blob/master/src/text-based-movie-recs.ipynb)\n",
        "- View the GitHub repo [![GitHub](https://img.shields.io/badge/github-%23121011.svg?style=for-the-badge&logo=github&logoColor=white)](https://github.com/douglasrizzo/recsys-movies/blob/master/src/text-based-movie-recs.ipynb)\n",
        "- [Read the contents in my website](https://douglasrizzo.com.br/blog/2025/03/text-based-movie-recs/)\n",
        "\n",
        "The following links instructed me on how to access a movie dataset and which libraries to use. You can check them out for more examples.\n",
        "\n",
        "- https://www.datacamp.com/tutorial/recommender-systems-python\n",
        "- https://www.kaggle.com/code/ibtesama/getting-started-with-a-movie-recommendation-system\n"
      ]
    },
    {
      "cell_type": "markdown",
      "metadata": {},
      "source": [
        "## Downloading the dataset\n",
        "\n",
        "For this exercise, we will use The Movie Database (TMDb), a dataset containing movies and their features. It does not contain user-related information, such as how many people watched a movie or movie ratings. We will use [a version provided by Kaggle user asaniczka](https://www.kaggle.com/datasets/asaniczka/tmdb-movies-dataset-2023-930k-movies), which is constantly updated.\n",
        "\n",
        "To download it, we will use the Python package `kagglehub`.\n"
      ]
    },
    {
      "cell_type": "code",
      "execution_count": 1,
      "metadata": {},
      "outputs": [
        {
          "name": "stdout",
          "output_type": "stream",
          "text": [
            "Resuming download from 179306496 bytes (41578107 bytes left)...\n",
            "Resuming download from https://www.kaggle.com/api/v1/datasets/download/asaniczka/tmdb-movies-dataset-2023-930k-movies?dataset_version_number=506 (179306496/220884603) bytes left.\n"
          ]
        },
        {
          "name": "stderr",
          "output_type": "stream",
          "text": [
            "100%|██████████| 211M/211M [00:08<00:00, 4.74MB/s]"
          ]
        },
        {
          "name": "stdout",
          "output_type": "stream",
          "text": [
            "Extracting files...\n"
          ]
        },
        {
          "name": "stderr",
          "output_type": "stream",
          "text": [
            "\n"
          ]
        }
      ],
      "source": [
        "import pathlib as pl\n",
        "\n",
        "import kagglehub\n",
        "import pandas as pd\n",
        "\n",
        "tmdb_path = next(\n",
        "  iter(pl.Path(kagglehub.dataset_download(\"asaniczka/tmdb-movies-dataset-2023-930k-movies\")).glob(\"*.csv\"))\n",
        ")"
      ]
    },
    {
      "cell_type": "markdown",
      "metadata": {},
      "source": [
        "You can see in the cells below a sample of the data we will use. At the time of this project, there were over 940,000 movies available on the dataset.\n",
        "\n",
        "We are only interested in the title and overview of the movies, so we will drop the other columns.\n"
      ]
    },
    {
      "cell_type": "code",
      "execution_count": 2,
      "metadata": {},
      "outputs": [
        {
          "name": "stdout",
          "output_type": "stream",
          "text": [
            "(941184, 2)\n"
          ]
        },
        {
          "data": {
            "application/vnd.microsoft.datawrangler.viewer.v0+json": {
              "columns": [
                {
                  "name": "id",
                  "rawType": "int64",
                  "type": "integer"
                },
                {
                  "name": "title",
                  "rawType": "object",
                  "type": "string"
                },
                {
                  "name": "overview",
                  "rawType": "object",
                  "type": "string"
                }
              ],
              "conversionMethod": "pd.DataFrame",
              "ref": "4f42b849-d2c1-4fea-8616-09e099a6628a",
              "rows": [
                [
                  "27205",
                  "Inception",
                  "Cobb, a skilled thief who commits corporate espionage by infiltrating the subconscious of his targets is offered a chance to regain his old life as payment for a task considered to be impossible: \"inception\", the implantation of another person's idea into a target's subconscious."
                ],
                [
                  "157336",
                  "Interstellar",
                  "The adventures of a group of explorers who make use of a newly discovered wormhole to surpass the limitations on human space travel and conquer the vast distances involved in an interstellar voyage."
                ],
                [
                  "155",
                  "The Dark Knight",
                  "Batman raises the stakes in his war on crime. With the help of Lt. Jim Gordon and District Attorney Harvey Dent, Batman sets out to dismantle the remaining criminal organizations that plague the streets. The partnership proves to be effective, but they soon find themselves prey to a reign of chaos unleashed by a rising criminal mastermind known to the terrified citizens of Gotham as the Joker."
                ],
                [
                  "19995",
                  "Avatar",
                  "In the 22nd century, a paraplegic Marine is dispatched to the moon Pandora on a unique mission, but becomes torn between following orders and protecting an alien civilization."
                ],
                [
                  "24428",
                  "The Avengers",
                  "When an unexpected enemy emerges and threatens global safety and security, Nick Fury, director of the international peacekeeping agency known as S.H.I.E.L.D., finds himself in need of a team to pull the world back from the brink of disaster. Spanning the globe, a daring recruitment effort begins!"
                ]
              ],
              "shape": {
                "columns": 2,
                "rows": 5
              }
            },
            "text/html": [
              "<div>\n",
              "<style scoped>\n",
              "    .dataframe tbody tr th:only-of-type {\n",
              "        vertical-align: middle;\n",
              "    }\n",
              "\n",
              "    .dataframe tbody tr th {\n",
              "        vertical-align: top;\n",
              "    }\n",
              "\n",
              "    .dataframe thead th {\n",
              "        text-align: right;\n",
              "    }\n",
              "</style>\n",
              "<table border=\"1\" class=\"dataframe\">\n",
              "  <thead>\n",
              "    <tr style=\"text-align: right;\">\n",
              "      <th></th>\n",
              "      <th>title</th>\n",
              "      <th>overview</th>\n",
              "    </tr>\n",
              "    <tr>\n",
              "      <th>id</th>\n",
              "      <th></th>\n",
              "      <th></th>\n",
              "    </tr>\n",
              "  </thead>\n",
              "  <tbody>\n",
              "    <tr>\n",
              "      <th>27205</th>\n",
              "      <td>Inception</td>\n",
              "      <td>Cobb, a skilled thief who commits corporate es...</td>\n",
              "    </tr>\n",
              "    <tr>\n",
              "      <th>157336</th>\n",
              "      <td>Interstellar</td>\n",
              "      <td>The adventures of a group of explorers who mak...</td>\n",
              "    </tr>\n",
              "    <tr>\n",
              "      <th>155</th>\n",
              "      <td>The Dark Knight</td>\n",
              "      <td>Batman raises the stakes in his war on crime. ...</td>\n",
              "    </tr>\n",
              "    <tr>\n",
              "      <th>19995</th>\n",
              "      <td>Avatar</td>\n",
              "      <td>In the 22nd century, a paraplegic Marine is di...</td>\n",
              "    </tr>\n",
              "    <tr>\n",
              "      <th>24428</th>\n",
              "      <td>The Avengers</td>\n",
              "      <td>When an unexpected enemy emerges and threatens...</td>\n",
              "    </tr>\n",
              "  </tbody>\n",
              "</table>\n",
              "</div>"
            ],
            "text/plain": [
              "                  title                                           overview\n",
              "id                                                                        \n",
              "27205         Inception  Cobb, a skilled thief who commits corporate es...\n",
              "157336     Interstellar  The adventures of a group of explorers who mak...\n",
              "155     The Dark Knight  Batman raises the stakes in his war on crime. ...\n",
              "19995            Avatar  In the 22nd century, a paraplegic Marine is di...\n",
              "24428      The Avengers  When an unexpected enemy emerges and threatens..."
            ]
          },
          "execution_count": 2,
          "metadata": {},
          "output_type": "execute_result"
        }
      ],
      "source": [
        "movie_metadata = pd.read_csv(tmdb_path, index_col=\"id\")\n",
        "movie_metadata = movie_metadata.loc[~movie_metadata[\"overview\"].isna(), [\"title\", \"overview\"]]\n",
        "print(movie_metadata.shape)\n",
        "movie_metadata.head()"
      ]
    },
    {
      "cell_type": "markdown",
      "metadata": {},
      "source": [
        "For the purposes of our project, we will only work with a sample of 10,000 movies, since the machine learning methods we will employ can be compute or memory intensive.\n"
      ]
    },
    {
      "cell_type": "code",
      "execution_count": 3,
      "metadata": {},
      "outputs": [],
      "source": [
        "movie_metadata = movie_metadata.sample(n=10000, random_state=42).sort_index()"
      ]
    },
    {
      "cell_type": "markdown",
      "metadata": {},
      "source": [
        "## Title-based recommendations using TF-IDF\n",
        "\n",
        "The first technique we will implement is term frequency-inverse document frequency, or TF-IDF for short. It is an information retrieval technique in which a term $t_1$ inside a document $d_1$ is given a weight based on how frequently it appears in that document, compared to how frequently it appears in all other documents of our corpus. The intuitition is that:\n",
        "\n",
        "- if $t_1$ is very common in $d_1$, it might be relevant to the context of $d_1$. This value is called the **term frequency**.\n",
        "- if $t_1$ does not appear as frequently in other documents, it might be very specific to the context of $d_1$ _in particular_, so it might be very relevant. This term is called the **inverse document frequency**.\n",
        "\n",
        "However, if $t_1$ also appears very frequently in other documents, it might not be a very informative term. Think about the word _\"the\"_, which may appear very frequently in a single document, but we can also find it in many other documents of a corpus.\n",
        "\n",
        "### Term frequency\n",
        "\n",
        "Term frequency is the relative frequency of a term within a document:\n",
        "\n",
        "$$tf(t, d) = \\frac{f(t, d)}{\\sum_{t' \\in d} f(t', d)}$$\n",
        "\n",
        "Where $t$ is a term, $d$ is a document, $t'$ are the other terms in $d which are not $t$ and the function $f(t, d)$ depicts the raw number of times $t$ appears in $d$.\n",
        "\n",
        "It can be loosely interpreted as:\n",
        "\n",
        "$$tf(t, d) = \\frac{\\text{number of times } t \\text{ appears in } d}{\\text{sum of the number of times all other terms in } d \\text{ also appear in } d}$$\n",
        "\n",
        "### Inverse term frequency\n",
        "\n",
        "Inverse document frequency is a measure of how informative a given term $t$ is within the corpus $D$.\n",
        "\n",
        "If we define:\n",
        "\n",
        "- $ \\vert D \\vert $ the number of documents in the corpus $D$ (the cardinality of set $D$) and\n",
        "- $D' = \\{d \\in D:t \\in d\\}$ as the set of documents in $D$ that also contain term $t$\n",
        "\n",
        "We can then compute the inverse document frequency $idf$ of a term $t$ in corpus $D$ as:\n",
        "\n",
        "$$idf(t, D) = \\log \\frac{ \\vert D \\vert }{ \\vert D' \\vert }$$\n",
        "\n",
        "Where once again $ \\vert \\cdot \\vert $ is the notation for the cardinality of a set.\n",
        "\n",
        "It can be interpreted as:\n",
        "\n",
        "$$idf(t, D) = \\log \\frac{\\text{total number of documents}}{\\text{number of documents in which } t \\text{ appears}}$$\n",
        "\n",
        "The logarithm is used to balance the magnitude of the $idf$ function for terms that appear in too few document _vs_ those that appear in too many documents. You can view a chart of the $idf$ function for a term that appear in all documents $(\\frac{ \\vert D \\vert }{ \\vert D' \\vert } = 1)$ all the way to a term that appears in 1% of the documents in a corpus $(\\frac{ \\vert D \\vert }{ \\vert D' \\vert } = 100)$.\n"
      ]
    },
    {
      "cell_type": "code",
      "execution_count": 4,
      "metadata": {},
      "outputs": [
        {
          "data": {
            "image/png": "[encoded data removed]",
            "text/plain": [
              "<Figure size 640x480 with 1 Axes>"
            ]
          },
          "metadata": {},
          "output_type": "display_data"
        }
      ],
      "source": [
        "import matplotlib.pyplot as plt\n",
        "import numpy as np\n",
        "\n",
        "x = np.arange(1, 101)\n",
        "y = np.log(x)\n",
        "plt.plot(x, y)\n",
        "plt.xlabel(\"$\\\\frac{|D|}{|D'|}$\")\n",
        "plt.ylabel(\"$\\\\log(\\\\frac{|D|}{|D'|})$\")\n",
        "plt.show()"
      ]
    },
    {
      "cell_type": "markdown",
      "metadata": {},
      "source": [
        "Finally, we can compute the $tfidf$ value for a term $t$ inside a document $d$ relative to a corpus $D$ as:\n",
        "\n",
        "$$ tfidf(t, d, D) = tf(t, d) \\cdot idf(t,D) $$\n",
        "\n",
        "### Interpreting $tfidf$\n",
        "\n",
        "- If the relative frequency of $t$ inside $d$ is high, then $tf(t, d)$ will be high\n",
        "- If $t$'s frequency inside all other documents in $D$ is small, them $idf(t, D)$ will be high\n",
        "- This makes $tfidf(t, d, D)$ high, meaning that the relevance of $t$ in $d$ compared to the other documents in $D$ must be high\n",
        "\n",
        "### Implementing the recommendation engine\n",
        "\n",
        "For this exercise, we will use scikit-learn to compute the $tfidf$ values of all words in all 10,000 titles of our movies. This will generate a $ \\vert T \\vert \\times \\vert D \\vert $ matrix whose size you can see below.\n"
      ]
    },
    {
      "cell_type": "code",
      "execution_count": 5,
      "metadata": {},
      "outputs": [
        {
          "name": "stdout",
          "output_type": "stream",
          "text": [
            "(10000, 35994)\n"
          ]
        }
      ],
      "source": [
        "from sklearn.feature_extraction.text import TfidfVectorizer\n",
        "\n",
        "tfidf = TfidfVectorizer(stop_words=\"english\")\n",
        "tfidf_matrix = tfidf.fit_transform(movie_metadata[\"overview\"])\n",
        "print(tfidf_matrix.shape)"
      ]
    },
    {
      "cell_type": "markdown",
      "metadata": {},
      "source": [
        "### Computing similarities\n",
        "\n",
        "In our example, each document $d$ is a single movie title and the corresponding vector in the tfidf matrix can be considered a numerical feature vector representing the movie title. We can compute how similar these feature vectorsamongst each other by using similarity metrics such as the [cosine similarity](https://en.wikipedia.org/wiki/Cosine_similarity), which we will employ below.\n"
      ]
    },
    {
      "cell_type": "code",
      "execution_count": 6,
      "metadata": {},
      "outputs": [
        {
          "data": {
            "text/plain": [
              "(10000, 10000)"
            ]
          },
          "execution_count": 6,
          "metadata": {},
          "output_type": "execute_result"
        }
      ],
      "source": [
        "cosine_sim = (tfidf_matrix * tfidf_matrix.T).toarray()\n",
        "cosine_sim.shape"
      ]
    },
    {
      "cell_type": "markdown",
      "metadata": {},
      "source": [
        "This gives us back a matrix of similarities $S$ in which $S_{x,y}$ denote how similar the titles of movies in position $x$ and $y$ are. This is a symmetric matrix $(S_{x,y} = S_{y,x})$ in which all elements in the diagonal are equal to 1 $(S_{x,x} = 1)$.\n",
        "\n",
        "### Recovering movies with similar titles\n",
        "\n",
        "Now, we can select a random movie from our dataset and retrieve the other movies whose titles are similar to it, according to how similar their $tfidf$ vectors are under the cosine similarity. The function below does that.\n"
      ]
    },
    {
      "cell_type": "code",
      "execution_count": 7,
      "metadata": {},
      "outputs": [],
      "source": [
        "import operator\n",
        "\n",
        "\n",
        "def get_recommendations(idx, sim_matrix):\n",
        "  movie_title = movie_metadata.iloc[idx][\"title\"]\n",
        "  print(f\"Top recommendations for {movie_title}:\")\n",
        "  sim_scores = list(enumerate(sim_matrix[idx]))\n",
        "  sim_scores = sorted(sim_scores, key=operator.itemgetter(1), reverse=True)\n",
        "  sim_scores = sim_scores[1:31]\n",
        "  movie_indices = [i[0] for i in sim_scores]\n",
        "  return movie_metadata[\"title\"].iloc[movie_indices]"
      ]
    },
    {
      "cell_type": "markdown",
      "metadata": {},
      "source": [
        "We can see from in the results below the subset of most similar items to the one whose title is listed. You can judge for yourself whether they are actually similar, but the usefulness of a recommendation engine that searches for movies with similar titles is questionable.\n"
      ]
    },
    {
      "cell_type": "code",
      "execution_count": 8,
      "metadata": {},
      "outputs": [
        {
          "name": "stdout",
          "output_type": "stream",
          "text": [
            "Top recommendations for Megacities:\n",
            "id\n",
            "164535         Trilogia - Il pensiero, lo sguardo, la parola\n",
            "410067                     Pasolini and the Form of the City\n",
            "516906                                      Die Republikaner\n",
            "529837        Villa Air Bel. Varian Fry in Marseille 1940/41\n",
            "558799                  Bella Italia - Zuflucht auf Widerruf\n",
            "620839                                        Leszármazottak\n",
            "1368150                                             Solitudo\n",
            "1170754                 ...bis zum Bundesverfassungsgericht!\n",
            "1408577                        In the Mix with Jabaar Edmond\n",
            "911602                                           Window Feel\n",
            "428078                                        Mortal Engines\n",
            "123022                                       Whispering Hope\n",
            "1144526    Bubble & Squeak murder:  The Killing of David ...\n",
            "1365387    Freedom Film Series: A Higher Law: The Oberlin...\n",
            "723978                                     Tierra de mujeres\n",
            "646953                                         Fleischwochen\n",
            "1325493                                      Songs in Greece\n",
            "1230804                                       Experimentally\n",
            "619614                   Blood Loss: Survival of the Fittest\n",
            "851645                                         Telos or Bust\n",
            "1162956                                       Memento Vivere\n",
            "1208493                                      Floral Symphony\n",
            "1364447                                             Parkside\n",
            "1153924                             Soy del tiempo de Gardel\n",
            "924502                                                 Norma\n",
            "610049                                       The Narrow Path\n",
            "235194                                My True Love, My Wound\n",
            "283054                                           Naked World\n",
            "319215                         The Hidden Side of the Bottom\n",
            "617036                             Seven Islands and a Metro\n",
            "Name: title, dtype: object\n"
          ]
        }
      ],
      "source": [
        "print(get_recommendations(1, cosine_sim))"
      ]
    },
    {
      "cell_type": "markdown",
      "metadata": {},
      "source": [
        "## Movie recommendations based on sentence embeddings\n",
        "\n",
        "In this next part of the project, we will expand our text-based recommendation engine by incorporating information about the movie overview into our similarity search.\n",
        "\n",
        "When doing this, we face a fundamental problem: the size of our vocabulary (the set of all individual terms in all documents of our corpus) is very large, which may make computing tfidf prohibitive. Also, the feature vectors for all our moview would all be sparse as most movie overviews do not contain many words from our vocabulary.\n",
        "\n",
        "To combat this, we can use an encoder-only transformer architecture, such as BERT and its variants, trained as a bi-encoder, to encode our arbitrarily long texts into fixed-size embeddings.\n",
        "\n",
        "### Encoder-only transformers\n",
        "\n",
        "These are neural network architectures whose only purpose is to transform text data into embeddings. Unlike _causal language models_ such as GPT, who are trained for next-token prediction and thus do not always have access to the full context of the text, encoder-only models (also called _masked language models_) have access to the full context of the text in order to generate its embedding.\n",
        "\n",
        "These models can be trained for a multitude of tasks, such as text classification, sentiment analysis and even masked language modeling. After training ends, these models are able to generate fixed size text embeddings.\n",
        "\n",
        "```mermaid\n",
        "graph BT\n",
        "    subgraph Causal language modeling\n",
        "        direction BT\n",
        "        CLM[GPT]\n",
        "        You2(You) --> CLM\n",
        "        must2(must) --> CLM\n",
        "        construct --> CLM\n",
        "        additional2(additional) --> CLM\n",
        "        CLM --> pylons@{ shape: stadium }\n",
        "\n",
        "        style CLM fill:#248315\n",
        "    end\n",
        "\n",
        "    subgraph Masked language modeling\n",
        "        direction BT\n",
        "        MLM[BERT]\n",
        "        You1(You) --> MLM\n",
        "        must1(must) --> MLM\n",
        "        MASK1[\"<font color='red'>&ltMASK&gt</font>\"] --> MLM\n",
        "        additional1(additional) --> MLM\n",
        "        pylons1(pylons) --> MLM\n",
        "        MLM --> additional@{ shape: stadium }\n",
        "\n",
        "        style MLM fill:#248315\n",
        "    end\n",
        "```\n",
        "\n",
        "### Bi-encoders\n",
        "\n",
        "A bi-encoder is a special kind of encoder-only transformer which is trained on labeled data, containing pairs of texts accompanied by a similarity score as in the example below.\n",
        "\n",
        "| Sentence 1 | Sentence 2                           | Similarity |\n",
        "| ---------- | ------------------------------------ | ---------- |\n",
        "| I love you | I love my cat                        | 0.82       |\n",
        "| I love you | You must construct additional pylons | 0.04       |\n",
        "\n",
        "One example dataset is the Semantic Textual Similarity Benchmark (STSB). [[Hugging Face Hub]](https://huggingface.co/datasets/sentence-transformers/stsb) [[Papers with Code]](https://paperswithcode.com/dataset/sts-benchmark)\n",
        "\n",
        "The bi-encoder is then trained in a siamese fashion so that the embeddings of texts with high similarity are also similar amongst themselves, whereas the embeddings of texts with low similarity have embeddings further away from each other. During inference, the model is individually applied to two pieces of texts and their output embeddings can be compared using cosine similarity.\n",
        "\n",
        "```mermaid\n",
        "graph TD\n",
        "  subgraph Inference time\n",
        "    direction BT\n",
        "    AI1[Sentence A]\n",
        "    AI2[BERT]\n",
        "    AI3[pooling]\n",
        "    AI4[u]\n",
        "    BI1[Sentence B]\n",
        "    BI2[BERT]\n",
        "    BI3[pooling]\n",
        "    BI4[v]\n",
        "    CI1[\"cosine-sim(u,v)\"]\n",
        "    CI2@{ shape: stadium, label : \"[-1;1]\" }\n",
        "    AI1 --> AI2 --> AI3 --> AI4 --> CI1\n",
        "    BI1 --> BI2 --> BI3 --> BI4 --> CI1\n",
        "    CI1 --> CI2\n",
        "  end\n",
        "\n",
        "  subgraph Training time\n",
        "    direction BT\n",
        "    AT1[Sentence A]\n",
        "    AT2[Bert]\n",
        "    AT3[pooling]\n",
        "    AT4[u]\n",
        "    BT1[Sentence B]\n",
        "    BT2[Bert]\n",
        "    BT3[pooling]\n",
        "    BT4[v]\n",
        "    CT1[\"(u, v, |u-v|)\"]\n",
        "    CT2[softmax classifier]\n",
        "    AT1 --> AT2 --> AT3 --> AT4 --> CT1\n",
        "    BT1 --> BT2 --> BT3 --> BT4 --> CT1\n",
        "    CT1 --> CT2\n",
        "  end\n",
        "```\n",
        "\n",
        "The image above is adapted from https://arxiv.org/abs/1908.10084. They mention training their bi-encoder as a classifier using cross-entropy, but do not get into details about how they do it. Other approaches include using regression to predict the cosine similarity or contrastive learning with contrastive or triplet loss in pairs of pairs of similar/dissimilar texts or triples of anchor/similar/dissimilar texts, respectively.\n",
        "\n",
        "#### Advantages of bi-encoders\n",
        "\n",
        "1. Embedding vector calculation is usually fast and lightweight\n",
        "2. Embedding vectors for each text can be stored adfter being computed and reutilized\n",
        "3. Comparison between embedding vectors is fast, using cosine similarity\n",
        "\n",
        "### Implementing our recommendation system\n",
        "\n",
        "For our project, we will use the [all-MiniLM-L6-v2](https://huggingface.co/sentence-transformers/all-MiniLM-L6-v2) model, which is trained using contrastive learning on pairs of sentences.\n"
      ]
    },
    {
      "cell_type": "code",
      "execution_count": 9,
      "metadata": {},
      "outputs": [],
      "source": [
        "from sentence_transformers import SentenceTransformer\n",
        "\n",
        "model = SentenceTransformer(\"all-MiniLM-L6-v2\")"
      ]
    },
    {
      "cell_type": "markdown",
      "metadata": {},
      "source": [
        "The model is applied to the movie titles concatenated with their overviews and generate fixed-size embedding vectors of size 384. The output is a matrix of size $|D| \\times n$, where $n$ is the dimension of the embedding vector.\n"
      ]
    },
    {
      "cell_type": "code",
      "execution_count": 10,
      "metadata": {},
      "outputs": [
        {
          "data": {
            "application/vnd.jupyter.widget-view+json": {
              "model_id": "0e5a3022b87e486ba8219f36e67a8aac",
              "version_major": 2,
              "version_minor": 0
            },
            "text/plain": [
              "Batches:   0%|          | 0/313 [00:00<?, ?it/s]"
            ]
          },
          "metadata": {},
          "output_type": "display_data"
        },
        {
          "name": "stdout",
          "output_type": "stream",
          "text": [
            "(10000, 384)\n"
          ]
        }
      ],
      "source": [
        "embeddings = model.encode(\n",
        "  (movie_metadata[\"title\"] + \" \" + movie_metadata[\"overview\"]).to_list(), show_progress_bar=True\n",
        ")\n",
        "print(embeddings.shape)"
      ]
    },
    {
      "cell_type": "markdown",
      "metadata": {},
      "source": [
        "### Recovering movies\n",
        "\n",
        "Once again, we recover the movies that are most similar to a randomly selected one based on the similarities between their embeddings.\n"
      ]
    },
    {
      "cell_type": "code",
      "execution_count": 11,
      "metadata": {},
      "outputs": [
        {
          "name": "stdout",
          "output_type": "stream",
          "text": [
            "Top recommendations for Billy Elliot:\n",
            "id\n",
            "38848                                A Few Days in September\n",
            "1257034        Weatherday Live @ The Ukie Club Philly 8/7/23\n",
            "372489                                                  1980\n",
            "1270247                                    Bad Boy Fuck Club\n",
            "11017                                          Billy Madison\n",
            "18141                                  The Elementary School\n",
            "472025                                      Dublin Oldschool\n",
            "581089                                      Haunting Douglas\n",
            "657923                      Neil Young - BBC In Concert 1971\n",
            "1006663                                            1985-1986\n",
            "521639                                           County Line\n",
            "672083                                       The Winslow Boy\n",
            "1310228                                             Identity\n",
            "150518                                      Tenth Avenue Kid\n",
            "192390                              The Hoosier Schoolmaster\n",
            "8271                                               Disturbia\n",
            "1087097                                              Lootin'\n",
            "1175745                            Bad Kids with Saint Names\n",
            "127523                                            True Blood\n",
            "527130                      Unforgettable Memory of a Friend\n",
            "1208250                                         Cadet School\n",
            "36961                                                      G\n",
            "228944                                Billy Childish Is Dead\n",
            "579357                                           The Dumb Ox\n",
            "1373646                                                Grown\n",
            "107598                                   The Kid from Kokomo\n",
            "463249                                     Say! Young Fellow\n",
            "470185                                            Schoolgrlz\n",
            "601619     Danny Adler: Trespassin' at King Records - The...\n",
            "124487                                          Rhythm Thief\n",
            "Name: title, dtype: object\n"
          ]
        }
      ],
      "source": [
        "top_recommendations = get_recommendations(0, model.similarity(embeddings, embeddings))\n",
        "print(top_recommendations)"
      ]
    },
    {
      "cell_type": "markdown",
      "metadata": {},
      "source": [
        "### Cross-encoders\n",
        "\n",
        "Another transformer architecture that allows us to build a text-based recommendation system is the _cross-encoder_ [[1]](https://arxiv.org/abs/1901.04085)[[2]](https://arxiv.org/abs/2101.08751). Unlike the bi-encoder, it takes a pair of sentences as input, concatenating them and separating them by a special token, and produces an output in the range $[0; 1]$ indicating how similar they are.\n",
        "\n",
        "```mermaid\n",
        "graph BT\n",
        "  A(Sentence A) --> concat\n",
        "  B(Sentence B) --> concat\n",
        "  concat --> BERT --> Classifier --> Output@{shape: circle, label: \"[0; 1]\"}\n",
        "```\n",
        "\n",
        "Due to their high computational complexity and usually better results than bi-encoders, cross-encoders are usually used in the re-ranking step of recommendation systems, in which a subset of recommendations has already been selected by previous, more lightweight methods.\n",
        "\n",
        "**Advantages of cross-encoders**\n",
        "\n",
        "- Tend to have better results in computing sentence similarity than bi-encoders.\n",
        "\n",
        "**Disadvantages of cross-encoders**\n",
        "\n",
        "- Computational complexity of using cross-encoders is quadratic compared to the linear complexity of bi-encoders, as every comparison between a new piece of text and texts in storage must use the cross-encoder transformer.\n",
        "\n",
        "### Implementing a movie reranker using a cross-encoder\n",
        "\n",
        "The code below employs a cross-encoder to rerank the movies selected by the bi-encoder of the previous section. It returns similarity scores between the title and overview of the original movie and the pre-selected movies.\n"
      ]
    },
    {
      "cell_type": "code",
      "execution_count": 12,
      "metadata": {},
      "outputs": [
        {
          "data": {
            "application/vnd.jupyter.widget-view+json": {
              "model_id": "b07daed6969d4cf788695267e850f712",
              "version_major": 2,
              "version_minor": 0
            },
            "text/plain": [
              "Batches:   0%|          | 0/1 [00:00<?, ?it/s]"
            ]
          },
          "metadata": {},
          "output_type": "display_data"
        },
        {
          "name": "stdout",
          "output_type": "stream",
          "text": [
            "2     0.365634\n",
            "26    0.360351\n",
            "24    0.293843\n",
            "10    0.291097\n",
            "12    0.258833\n",
            "9     0.257831\n",
            "22    0.247428\n",
            "4     0.222584\n",
            "21    0.219410\n",
            "5     0.211042\n",
            "19    0.175163\n",
            "14    0.175003\n",
            "20    0.174640\n",
            "27    0.173403\n",
            "11    0.148287\n",
            "23    0.146889\n",
            "0     0.146843\n",
            "13    0.145361\n",
            "29    0.145283\n",
            "1     0.124511\n",
            "16    0.117132\n",
            "25    0.108611\n",
            "6     0.101460\n",
            "3     0.099316\n",
            "18    0.097358\n",
            "17    0.080527\n",
            "7     0.064563\n",
            "8     0.062674\n",
            "28    0.051764\n",
            "15    0.049922\n",
            "dtype: float32\n"
          ]
        }
      ],
      "source": [
        "from sentence_transformers.cross_encoder import CrossEncoder\n",
        "\n",
        "model = CrossEncoder(\"cross-encoder/stsb-roberta-base\")\n",
        "\n",
        "ranks = model.rank(\n",
        "  movie_metadata.iloc[0][\"title\"] + \" \" + movie_metadata.iloc[0][\"overview\"],\n",
        "  top_recommendations,\n",
        "  show_progress_bar=True,\n",
        ")\n",
        "ranks = {rank[\"corpus_id\"]: rank[\"score\"] for rank in ranks}\n",
        "print(pd.Series(ranks))"
      ]
    },
    {
      "cell_type": "markdown",
      "metadata": {},
      "source": [
        "Finally, we produce the list of reranked movies.\n"
      ]
    },
    {
      "cell_type": "code",
      "execution_count": 13,
      "metadata": {},
      "outputs": [
        {
          "data": {
            "text/plain": [
              "id\n",
              "372489                                                  1980\n",
              "463249                                     Say! Young Fellow\n",
              "1373646                                                Grown\n",
              "521639                                           County Line\n",
              "1310228                                             Identity\n",
              "1006663                                            1985-1986\n",
              "228944                                Billy Childish Is Dead\n",
              "11017                                          Billy Madison\n",
              "36961                                                      G\n",
              "18141                                  The Elementary School\n",
              "527130                      Unforgettable Memory of a Friend\n",
              "192390                              The Hoosier Schoolmaster\n",
              "1208250                                         Cadet School\n",
              "470185                                            Schoolgrlz\n",
              "672083                                       The Winslow Boy\n",
              "579357                                           The Dumb Ox\n",
              "38848                                A Few Days in September\n",
              "150518                                      Tenth Avenue Kid\n",
              "124487                                          Rhythm Thief\n",
              "1257034        Weatherday Live @ The Ukie Club Philly 8/7/23\n",
              "1087097                                              Lootin'\n",
              "107598                                   The Kid from Kokomo\n",
              "472025                                      Dublin Oldschool\n",
              "1270247                                    Bad Boy Fuck Club\n",
              "127523                                            True Blood\n",
              "1175745                            Bad Kids with Saint Names\n",
              "581089                                      Haunting Douglas\n",
              "657923                      Neil Young - BBC In Concert 1971\n",
              "601619     Danny Adler: Trespassin' at King Records - The...\n",
              "8271                                               Disturbia\n",
              "Name: title, dtype: object"
            ]
          },
          "execution_count": 13,
          "metadata": {},
          "output_type": "execute_result"
        }
      ],
      "source": [
        "ranks_idx_sorted = sorted(zip(ranks.keys(), ranks.values(), strict=False), key=operator.itemgetter(1), reverse=True)\n",
        "ranks_idx_sorted = [r[0] for r in ranks_idx_sorted]\n",
        "top_recommendations.iloc[ranks_idx_sorted]"
      ]
    },
    {
      "cell_type": "markdown",
      "metadata": {},
      "source": [
        "## Conclusions\n",
        "\n",
        "This project showcased two different ways of making a movie recommendations systems and one way of making a movie reranking system, based solely on the title and overview of a movie a hypothetical user might enjoy. Movies with similar titles and overviews to the original one can be recovered using techniques such as TF-IDF, bi-encoders or cross-encoders and can also be reranked using any of these techniques, especially the most precise but computationnaly expensive ones such as the cross-encoder.\n",
        "\n",
        "We have gone on an overview of how TF-IDF, bi-encoders and cross-encoders are trained and work and implemented everything in Python using open source packages such as scikit-learn and sentence_transformers, as well the open TMDb movies dataset, which is downloaded automatically from Kaggle use the kagglehub package.\n",
        "\n",
        "These techniques are obviously not constrained to movie recommendations and can be used to perform similarity search on any text corpus.\n",
        "\n",
        "Se you guys next time!\n"
      ]
    }
  ],
  "metadata": {
    "kernelspec": {
      "display_name": ".venv",
      "language": "python",
      "name": "python3"
    },
    "language_info": {
      "codemirror_mode": {
        "name": "ipython",
        "version": 3
      },
      "file_extension": ".py",
      "mimetype": "text/x-python",
      "name": "python",
      "nbconvert_exporter": "python",
      "pygments_lexer": "ipython3",
      "version": "3.12.7"
    }
  },
  "nbformat": 4,
  "nbformat_minor": 2
}
