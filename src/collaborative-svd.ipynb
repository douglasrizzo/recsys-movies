{
  "cells": [
    {
      "cell_type": "code",
      "execution_count": null,
      "metadata": {},
      "outputs": [],
      "source": [
        "import pathlib as pl\n",
        "\n",
        "import kagglehub\n",
        "import pandas as pd\n",
        "\n",
        "(mvls_links_path, mvls_genometags_path, mvls_movies_path, mvls_genomescores_path, mvls_tags_path, mvls_ratings_path) = (\n",
        "  list(pl.Path(kagglehub.dataset_download(\"grouplens/movielens-20m-dataset\")).iterdir())\n",
        ")\n",
        "print(\n",
        "  mvls_links_path, mvls_genometags_path, mvls_movies_path, mvls_genomescores_path, mvls_tags_path, mvls_ratings_path\n",
        ")"
      ]
    },
    {
      "cell_type": "code",
      "execution_count": 2,
      "metadata": {},
      "outputs": [],
      "source": [
        "ratings = pd.read_csv(mvls_ratings_path).sample(frac=0.5, random_state=42)"
      ]
    },
    {
      "cell_type": "code",
      "execution_count": 3,
      "metadata": {},
      "outputs": [],
      "source": [
        "# load the data into surprise\n",
        "from surprise import Dataset, Reader\n",
        "\n",
        "reader = Reader(rating_scale=(1, 5))\n",
        "data = Dataset.load_from_df(ratings[[\"userId\", \"movieId\", \"rating\"]], reader=reader)"
      ]
    },
    {
      "cell_type": "code",
      "execution_count": null,
      "metadata": {},
      "outputs": [],
      "source": [
        "# train a single value decomposition model\n",
        "from surprise import SVD\n",
        "from surprise.model_selection import cross_validate\n",
        "\n",
        "algo = SVD()\n",
        "cross_validate(algo, data, measures=[\"RMSE\", \"MAE\"], cv=3, verbose=True)"
      ]
    },
    {
      "cell_type": "code",
      "execution_count": null,
      "metadata": {},
      "outputs": [],
      "source": [
        "# fit the model in all the data and predict the rating for user 0 and movie 0\n",
        "algo.fit(data.build_full_trainset())\n",
        "print(algo.predict(0, 0), ratings.iloc[0, 2])"
      ]
    }
  ],
  "metadata": {
    "kernelspec": {
      "display_name": ".venv",
      "language": "python",
      "name": "python3"
    },
    "language_info": {
      "codemirror_mode": {
        "name": "ipython",
        "version": 3
      },
      "file_extension": ".py",
      "mimetype": "text/x-python",
      "name": "python",
      "nbconvert_exporter": "python",
      "pygments_lexer": "ipython3",
      "version": "3.12.7"
    }
  },
  "nbformat": 4,
  "nbformat_minor": 2
}
