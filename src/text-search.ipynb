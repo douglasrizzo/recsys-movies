{
  "cells": [
    {
      "cell_type": "markdown",
      "metadata": {},
      "source": [
        "- https://www.datacamp.com/tutorial/recommender-systems-python\n",
        "- https://www.kaggle.com/code/ibtesama/getting-started-with-a-movie-recommendation-system\n"
      ]
    },
    {
      "cell_type": "code",
      "execution_count": 9,
      "metadata": {},
      "outputs": [],
      "source": [
        "import pathlib as pl\n",
        "\n",
        "import kagglehub\n",
        "import pandas as pd\n",
        "\n",
        "tmdb_path = next(\n",
        "  iter(pl.Path(kagglehub.dataset_download(\"asaniczka/tmdb-movies-dataset-2023-930k-movies\")).glob(\"*.csv\"))\n",
        ")"
      ]
    },
    {
      "cell_type": "code",
      "execution_count": 11,
      "metadata": {},
      "outputs": [
        {
          "name": "stdout",
          "output_type": "stream",
          "text": [
            "/home/dodo/.cache/kagglehub/datasets/asaniczka/tmdb-movies-dataset-2023-930k-movies/versions/430/TMDB_movie_dataset_v11.csv\n"
          ]
        }
      ],
      "source": [
        "print(tmdb_path)"
      ]
    },
    {
      "cell_type": "code",
      "execution_count": 2,
      "metadata": {},
      "outputs": [
        {
          "name": "stdout",
          "output_type": "stream",
          "text": [
            "(915354, 2)\n"
          ]
        },
        {
          "data": {
            "text/html": [
              "<div>\n",
              "<style scoped>\n",
              "    .dataframe tbody tr th:only-of-type {\n",
              "        vertical-align: middle;\n",
              "    }\n",
              "\n",
              "    .dataframe tbody tr th {\n",
              "        vertical-align: top;\n",
              "    }\n",
              "\n",
              "    .dataframe thead th {\n",
              "        text-align: right;\n",
              "    }\n",
              "</style>\n",
              "<table border=\"1\" class=\"dataframe\">\n",
              "  <thead>\n",
              "    <tr style=\"text-align: right;\">\n",
              "      <th></th>\n",
              "      <th>title</th>\n",
              "      <th>overview</th>\n",
              "    </tr>\n",
              "    <tr>\n",
              "      <th>id</th>\n",
              "      <th></th>\n",
              "      <th></th>\n",
              "    </tr>\n",
              "  </thead>\n",
              "  <tbody>\n",
              "    <tr>\n",
              "      <th>96</th>\n",
              "      <td>Beverly Hills Cop II</td>\n",
              "      <td>Axel heads for the land of sunshine and palm t...</td>\n",
              "    </tr>\n",
              "    <tr>\n",
              "      <th>177</th>\n",
              "      <td>The Fisher King</td>\n",
              "      <td>Two troubled men face their terrible destinies...</td>\n",
              "    </tr>\n",
              "    <tr>\n",
              "      <th>195</th>\n",
              "      <td>Trouble in Paradise</td>\n",
              "      <td>Thief Gaston Monescu and pickpocket Lily are p...</td>\n",
              "    </tr>\n",
              "    <tr>\n",
              "      <th>225</th>\n",
              "      <td>Man of Iron</td>\n",
              "      <td>In Warsaw in 1980, the Communist Party sends W...</td>\n",
              "    </tr>\n",
              "    <tr>\n",
              "      <th>281</th>\n",
              "      <td>Strange Days</td>\n",
              "      <td>A former cop turned street-hustler and his bod...</td>\n",
              "    </tr>\n",
              "  </tbody>\n",
              "</table>\n",
              "</div>"
            ],
            "text/plain": [
              "                    title                                           overview\n",
              "id                                                                          \n",
              "96   Beverly Hills Cop II  Axel heads for the land of sunshine and palm t...\n",
              "177       The Fisher King  Two troubled men face their terrible destinies...\n",
              "195   Trouble in Paradise  Thief Gaston Monescu and pickpocket Lily are p...\n",
              "225           Man of Iron  In Warsaw in 1980, the Communist Party sends W...\n",
              "281          Strange Days  A former cop turned street-hustler and his bod..."
            ]
          },
          "execution_count": 2,
          "metadata": {},
          "output_type": "execute_result"
        }
      ],
      "source": [
        "movie_metadata = pd.read_csv(tmdb_path, index_col=\"id\")\n",
        "movie_metadata = movie_metadata.loc[~movie_metadata[\"overview\"].isna(), [\"title\", \"overview\"]]\n",
        "print(movie_metadata.shape)\n",
        "movie_metadata = movie_metadata.sample(n=10000, random_state=42).sort_index()\n",
        "movie_metadata.head()"
      ]
    },
    {
      "cell_type": "code",
      "execution_count": 3,
      "metadata": {},
      "outputs": [
        {
          "name": "stdout",
          "output_type": "stream",
          "text": [
            "(10000, 36281)\n"
          ]
        }
      ],
      "source": [
        "from sklearn.feature_extraction.text import TfidfVectorizer\n",
        "\n",
        "tfidf = TfidfVectorizer(stop_words=\"english\")\n",
        "tfidf_matrix = tfidf.fit_transform(movie_metadata[\"overview\"])\n",
        "print(tfidf_matrix.shape)"
      ]
    },
    {
      "cell_type": "code",
      "execution_count": 4,
      "metadata": {},
      "outputs": [
        {
          "data": {
            "text/plain": [
              "(10000, 10000)"
            ]
          },
          "execution_count": 4,
          "metadata": {},
          "output_type": "execute_result"
        }
      ],
      "source": [
        "cosine_sim = (tfidf_matrix * tfidf_matrix.T).toarray()\n",
        "cosine_sim.shape"
      ]
    },
    {
      "cell_type": "code",
      "execution_count": 5,
      "metadata": {},
      "outputs": [
        {
          "name": "stdout",
          "output_type": "stream",
          "text": [
            "Top recommendations for The Fisher King:\n",
            "id\n",
            "740533                                               TormenT\n",
            "485063                                           Masterpiece\n",
            "380023                                 Figure in a Landscape\n",
            "399734                                        The Samaritans\n",
            "1403180                                           Spilt Milk\n",
            "923367                          Through the Eyes of Children\n",
            "1123751                                       Love Over Gold\n",
            "134575                          Secrets of the Heavenly Book\n",
            "1132360                                       Sexual Desires\n",
            "1022983      Is There A Future For The Two Who Got Raped!? ?\n",
            "1325372                              Semana Santa en Tolim\u00e1n\n",
            "44151                                          The Crusaders\n",
            "628005                                     Khun Phaen Begins\n",
            "1084646                                             Renegade\n",
            "10446                                       The High Crusade\n",
            "1370528                                     Hard Selling Men\n",
            "663067     PERSONA3 the Weird Masquerade ~The Bismuth Cry...\n",
            "418437                                         Unforgettable\n",
            "565561                                            Handyman 2\n",
            "1090233                                                Timmy\n",
            "1381725                               At the End of the Hall\n",
            "1067657                                            Love Dogs\n",
            "628853                                                Nastik\n",
            "736656                                              No Trace\n",
            "518710                                       Porcelain Stare\n",
            "503231                                  The Well aka Brunnen\n",
            "1056437              Turma da M\u00f4nica Jovem: Reflexos do Medo\n",
            "774417                                         Running Water\n",
            "374111                                         The Himalayas\n",
            "395273                                                 Mussa\n",
            "Name: title, dtype: object\n"
          ]
        }
      ],
      "source": [
        "import operator\n",
        "\n",
        "\n",
        "def get_recommendations(idx, sim_matrix):\n",
        "  movie_title = movie_metadata.iloc[idx][\"title\"]\n",
        "  print(f\"Top recommendations for {movie_title}:\")\n",
        "  sim_scores = list(enumerate(sim_matrix[idx]))\n",
        "  sim_scores = sorted(sim_scores, key=operator.itemgetter(1), reverse=True)\n",
        "  sim_scores = sim_scores[1:31]\n",
        "  movie_indices = [i[0] for i in sim_scores]\n",
        "  return movie_metadata[\"title\"].iloc[movie_indices]\n",
        "\n",
        "\n",
        "print(get_recommendations(1, cosine_sim))"
      ]
    },
    {
      "cell_type": "code",
      "execution_count": 6,
      "metadata": {},
      "outputs": [
        {
          "name": "stderr",
          "output_type": "stream",
          "text": [
            "/home/dodo/code/recsys-movies/.venv/lib/python3.12/site-packages/transformers/utils/hub.py:128: FutureWarning: Using `TRANSFORMERS_CACHE` is deprecated and will be removed in v5 of Transformers. Use `HF_HOME` instead.\n",
            "  warnings.warn(\n"
          ]
        }
      ],
      "source": [
        "# apply sentence transformer to overview\n",
        "from sentence_transformers import SentenceTransformer\n",
        "\n",
        "model = SentenceTransformer(\"all-MiniLM-L6-v2\")"
      ]
    },
    {
      "cell_type": "code",
      "execution_count": 7,
      "metadata": {},
      "outputs": [
        {
          "name": "stderr",
          "output_type": "stream",
          "text": [
            "Batches: 100%|\u2588\u2588\u2588\u2588\u2588\u2588\u2588\u2588\u2588\u2588| 313/313 [00:14<00:00, 22.06it/s]"
          ]
        },
        {
          "name": "stdout",
          "output_type": "stream",
          "text": [
            "(10000, 384)\n"
          ]
        },
        {
          "name": "stderr",
          "output_type": "stream",
          "text": [
            "\n"
          ]
        }
      ],
      "source": [
        "embeddings = model.encode(movie_metadata[\"overview\"].to_list(), show_progress_bar=True)\n",
        "print(embeddings.shape)"
      ]
    },
    {
      "cell_type": "code",
      "execution_count": 8,
      "metadata": {},
      "outputs": [
        {
          "name": "stdout",
          "output_type": "stream",
          "text": [
            "Top recommendations for Beverly Hills Cop II:\n",
            "id\n",
            "1314704                                        DIRT\n",
            "738331                                Sunny Side Up\n",
            "315610                           Blue Streak O'Neil\n",
            "122740                                   Highway 13\n",
            "94652                                Ninja Champion\n",
            "636973                             Above the Clouds\n",
            "613835                                    13 Graves\n",
            "105660                                Double Murder\n",
            "1396123                        the cry of the earth\n",
            "12403                             A Perfect Getaway\n",
            "778769                                  Haulin' Ass\n",
            "1260893                               Hide And Seek\n",
            "111499                  God's Country and the Woman\n",
            "32243                                Crash and Burn\n",
            "601019                           The Unknown Ranger\n",
            "156363                      The Phantom of the West\n",
            "990790        Nick Carter - Le myst\u00e8re du lit blanc\n",
            "106269                       Rise of the Scarecrows\n",
            "860253                                       Sanday\n",
            "757957                            The Long Way Home\n",
            "1139556                   Fixin' to Tell About Jack\n",
            "456220                        Echo in the Mountains\n",
            "508169                                  Erste Liebe\n",
            "972440                             Cream Lemon DARK\n",
            "284010                                         Fear\n",
            "216933     Crying Freeman 5: Abduction in Chinatown\n",
            "138281                                        Blues\n",
            "575719      The Butcher III - Zombies im Blutrausch\n",
            "1290622                                Frozen Pines\n",
            "865640                         The Lunatic at Large\n",
            "Name: title, dtype: object\n"
          ]
        }
      ],
      "source": [
        "print(get_recommendations(0, model.similarity(embeddings, embeddings)))"
      ]
    }
  ],
  "metadata": {
    "kernelspec": {
      "display_name": ".venv",
      "language": "python",
      "name": "python3"
    },
    "language_info": {
      "codemirror_mode": {
        "name": "ipython",
        "version": 3
      },
      "file_extension": ".py",
      "mimetype": "text/x-python",
      "name": "python",
      "nbconvert_exporter": "python",
      "pygments_lexer": "ipython3",
      "version": "3.12.7"
    }
  },
  "nbformat": 4,
  "nbformat_minor": 2
}
